{
  "nbformat": 4,
  "nbformat_minor": 0,
  "metadata": {
    "colab": {
      "provenance": []
    },
    "kernelspec": {
      "name": "python3",
      "display_name": "Python 3"
    },
    "language_info": {
      "name": "python"
    }
  },
  "cells": [
    {
      "cell_type": "code",
      "execution_count": null,
      "metadata": {
        "id": "yCymbpgPNVw7"
      },
      "outputs": [],
      "source": [
        "\n",
        "import requests\n",
        "import time\n",
        "# global variables\n",
        "api_key = '6bc152c1-0761-4f56-89f6-7ca5e2157ea7'\n",
        "bot_token = '1868999599:AAFLRlvZUsCpRBIB1ucSWt_QzHdUsoIZlYo'\n",
        "chat_id = '1543567877'\n",
        "\n",
        "#Set threshold time limit for notifications\n",
        "\n",
        "threshold = 40000\n",
        "time_interval = 1 * 15\n",
        "\n",
        "def get_btc_price():\n",
        "    url = 'https://pro-api.coinmarketcap.com/v1/cryptocurrency/listings/latest'\n",
        "    headers = {'Accepts': 'application/json',\n",
        "        'X-CMC_PRO_API_KEY': api_key }\n",
        "\n",
        "    # make a request to the coinmarketcap api\n",
        "    response = requests.get(url, headers=headers)\n",
        "    response_json = response.json()\n",
        "\n",
        "# extract the bitcoin price from the json data\n",
        "    btc_price = response_json['data'][0]\n",
        "    return btc_price['quote']['USD']['price']\n",
        "\n",
        "# fn to send_message through telegram\n",
        "def send_message(chat_id, msg):\n",
        "    url = f\"https://api.telegram.org/bot{bot_token}/sendMessage?chat_id={chat_id}&text={msg}\"\n",
        "\n",
        "# send the msg\n",
        "    requests.get(url)\n",
        "\n",
        "# main fn\n",
        "def main():\n",
        "    price_list = []\n",
        "\n",
        "# infinite loop\n",
        "    while True:\n",
        "        price = get_btc_price()\n",
        "        price_list.append(price)\n",
        "\n",
        "# if the price falls below threshold, send an immediate msg\n",
        "        if price < threshold:\n",
        "            send_message(chat_id = chat_id, msg=f'BTC Price Drop Alert: {price}')\n",
        "\n",
        "# send last 6 btc price\n",
        "        if len(price_list) >= 6:\n",
        "            send_message(chat_id=chat_id, msg=price_list)\n",
        "\n",
        "            # empty the price_list\n",
        "            price_list= []\n",
        "\n",
        "# fetch the price for every dash minutes\n",
        "        time.sleep(time_interval)\n",
        "\n",
        "\n",
        "# The Main() function\n",
        "if __name__ == '__main__':\n",
        "    main()\n"
      ]
    }
  ]
}